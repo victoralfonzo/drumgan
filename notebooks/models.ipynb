{
 "metadata": {
  "language_info": {
   "codemirror_mode": {
    "name": "ipython",
    "version": 3
   },
   "file_extension": ".py",
   "mimetype": "text/x-python",
   "name": "python",
   "nbconvert_exporter": "python",
   "pygments_lexer": "ipython3",
   "version": "3.8.3-final"
  },
  "orig_nbformat": 2,
  "kernelspec": {
   "name": "python_defaultSpec_1599333209726",
   "display_name": "Python 3.8.3 64-bit (conda)"
  }
 },
 "nbformat": 4,
 "nbformat_minor": 2,
 "cells": [
  {
   "cell_type": "code",
   "execution_count": 2,
   "metadata": {},
   "outputs": [],
   "source": [
    "import tensorflow as tf\n",
    "#from tqdm import tdqm\n",
    "import numpy as np\n",
    "from tensorflow.keras.models import Sequential\n",
    "from tensorflow.keras.layers import Dense, Activation, Conv1DTranspose, Conv1D, Reshape, Input, ReLU, UpSampling1D, LeakyReLU"
   ]
  },
  {
   "cell_type": "code",
   "execution_count": 4,
   "metadata": {
    "tags": []
   },
   "outputs": [
    {
     "output_type": "stream",
     "name": "stdout",
     "text": "(None, 16384, 1)\n1 (None, 4096, 64)\n"
    }
   ],
   "source": [
    "model = tf.keras.Sequential()\n",
    "model.add(Input(shape = (16384,1)))\n",
    "print(model.output_shape)\n",
    "model.add(Conv1D(filters = 64, kernel_size = 25, strides = 4, use_bias=True, padding = 'same'))\n",
    "print(\"1\",model.output_shape)"
   ]
  },
  {
   "cell_type": "code",
   "execution_count": 68,
   "metadata": {
    "tags": []
   },
   "outputs": [
    {
     "output_type": "stream",
     "name": "stdout",
     "text": "Model: \"sequential\"\n_________________________________________________________________\nLayer (type)                 Output Shape              Param #   \n=================================================================\ndense (Dense)                (None, 256)               25856     \n_________________________________________________________________\nreshape (Reshape)            (None, 16, 16)            0         \n_________________________________________________________________\nre_lu (ReLU)                 (None, 16, 16)            0         \n_________________________________________________________________\nconv1d_transpose (Conv1DTran (None, 64, 64)            25664     \n_________________________________________________________________\nre_lu_1 (ReLU)               (None, 64, 64)            0         \n_________________________________________________________________\nconv1d_transpose_1 (Conv1DTr (None, 256, 4)            6404      \n_________________________________________________________________\nre_lu_2 (ReLU)               (None, 256, 4)            0         \n_________________________________________________________________\nconv1d_transpose_2 (Conv1DTr (None, 1024, 2)           202       \n_________________________________________________________________\nre_lu_3 (ReLU)               (None, 1024, 2)           0         \n_________________________________________________________________\nconv1d_transpose_3 (Conv1DTr (None, 4096, 1)           51        \n_________________________________________________________________\nre_lu_4 (ReLU)               (None, 4096, 1)           0         \n_________________________________________________________________\nconv1d_transpose_4 (Conv1DTr (None, 16384, 1)          26        \n_________________________________________________________________\nre_lu_5 (ReLU)               (None, 16384, 1)          0         \n_________________________________________________________________\nactivation (Activation)      (None, 16384, 1)          0         \n=================================================================\nTotal params: 58,203\nTrainable params: 58,203\nNon-trainable params: 0\n_________________________________________________________________\n"
    }
   ],
   "source": [
    "import tensorflow as tf\n",
    "#from tqdm import tdqm\n",
    "import numpy as np\n",
    "from tensorflow.keras.models import Sequential\n",
    "from tensorflow.keras.layers import Dense, Activation, Conv1DTranspose, Conv1D, Reshape, Input, ReLU, UpSampling1D, LeakyReLU\n",
    "import json\n",
    "import time\n",
    "generator = tf.keras.models.load_model('models/gen_at_epoch500.000000.h5',compile = False)\n",
    "discriminator = tf.keras.models.load_model('models/disc_at_epoch500.000000.h5',compile = False)\n",
    "generator.summary()"
   ]
  },
  {
   "cell_type": "code",
   "execution_count": 110,
   "metadata": {
    "tags": []
   },
   "outputs": [
    {
     "output_type": "stream",
     "name": "stdout",
     "text": "tf.Tensor([[0.2701149]], shape=(1, 1), dtype=float32)\n"
    }
   ],
   "source": [
    "from scipy.io.wavfile import write as wavwrite\n",
    "\n",
    "seed = tf.random.normal([1, 100])\n",
    "#print(seed)\n",
    "pred = generator(seed, training = False)\n",
    "print(discriminator(pred))\n",
    "pred = np.squeeze(pred.numpy(), axis =2)\n",
    "wavwrite(\"preview3.wav\", 16000, pred.T)\n"
   ]
  },
  {
   "cell_type": "code",
   "execution_count": null,
   "metadata": {},
   "outputs": [],
   "source": []
  }
 ]
}